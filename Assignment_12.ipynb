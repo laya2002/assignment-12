{
  "nbformat": 4,
  "nbformat_minor": 0,
  "metadata": {
    "colab": {
      "name": "Assignment 12",
      "provenance": [],
      "authorship_tag": "ABX9TyNhm4DXeL6TKA2NjvzVN8yT",
      "include_colab_link": true
    },
    "kernelspec": {
      "name": "python3",
      "display_name": "Python 3"
    }
  },
  "cells": [
    {
      "cell_type": "markdown",
      "metadata": {
        "id": "view-in-github",
        "colab_type": "text"
      },
      "source": [
        "<a href=\"https://colab.research.google.com/github/laya2002/assignment-12/blob/master/Assignment_12.ipynb\" target=\"_parent\"><img src=\"https://colab.research.google.com/assets/colab-badge.svg\" alt=\"Open In Colab\"/></a>"
      ]
    },
    {
      "cell_type": "code",
      "metadata": {
        "id": "o_tXd6va3Q-g",
        "colab_type": "code",
        "colab": {}
      },
      "source": [
        ""
      ],
      "execution_count": null,
      "outputs": []
    },
    {
      "cell_type": "markdown",
      "metadata": {
        "id": "QJer0B-S4QxE",
        "colab_type": "text"
      },
      "source": [
        " Python program to create a tuple."
      ]
    },
    {
      "cell_type": "code",
      "metadata": {
        "id": "j3OXBFDA4RZR",
        "colab_type": "code",
        "colab": {
          "base_uri": "https://localhost:8080/",
          "height": 86
        },
        "outputId": "148b7fc0-315c-4bc8-9737-6d4f6a7c8e0b"
      },
      "source": [
        " my_tuple = ()\n",
        "print(my_tuple)\n",
        "my_tuple = (1, 2, 3)\n",
        "print(my_tuple)\n",
        "my_tuple = (1, \"Hello\", 3.4)\n",
        "print(my_tuple)\n",
        "my_tuple = (\"mouse\", [8, 4, 6], (1, 2, 3))\n",
        "print(my_tuple)"
      ],
      "execution_count": 1,
      "outputs": [
        {
          "output_type": "stream",
          "text": [
            "()\n",
            "(1, 2, 3)\n",
            "(1, 'Hello', 3.4)\n",
            "('mouse', [8, 4, 6], (1, 2, 3))\n"
          ],
          "name": "stdout"
        }
      ]
    },
    {
      "cell_type": "markdown",
      "metadata": {
        "id": "uDmbToyq4hhX",
        "colab_type": "text"
      },
      "source": [
        "  Python program to create a tuple with different data types."
      ]
    },
    {
      "cell_type": "code",
      "metadata": {
        "id": "spsiaLOV4l-5",
        "colab_type": "code",
        "colab": {
          "base_uri": "https://localhost:8080/",
          "height": 34
        },
        "outputId": "99a125a9-d2b6-4b96-b6b0-d56105d057ae"
      },
      "source": [
        " tuplex = (\"tuple\", False, 3.2, 1)\n",
        "print(tuplex)"
      ],
      "execution_count": 2,
      "outputs": [
        {
          "output_type": "stream",
          "text": [
            "('tuple', False, 3.2, 1)\n"
          ],
          "name": "stdout"
        }
      ]
    },
    {
      "cell_type": "markdown",
      "metadata": {
        "id": "JwFdR_fC4vFm",
        "colab_type": "text"
      },
      "source": [
        "  Python program to convert a tuple to a string."
      ]
    },
    {
      "cell_type": "code",
      "metadata": {
        "id": "u6RmBL3d4z7f",
        "colab_type": "code",
        "colab": {
          "base_uri": "https://localhost:8080/",
          "height": 34
        },
        "outputId": "f0ff8465-729b-4852-9d13-04d333fd44ae"
      },
      "source": [
        " tup = ('l', 'a', 'y', 'a',)\n",
        "str =  ''.join(tup)\n",
        "print(str)"
      ],
      "execution_count": 3,
      "outputs": [
        {
          "output_type": "stream",
          "text": [
            "laya\n"
          ],
          "name": "stdout"
        }
      ]
    },
    {
      "cell_type": "markdown",
      "metadata": {
        "id": "JBIPLn_15BTV",
        "colab_type": "text"
      },
      "source": [
        " Python program to slice a tuple."
      ]
    },
    {
      "cell_type": "code",
      "metadata": {
        "id": "sjkqyaVt5CPX",
        "colab_type": "code",
        "colab": {
          "base_uri": "https://localhost:8080/",
          "height": 106
        },
        "outputId": "33874fab-6962-41d6-9202-6fc4cfa1c094"
      },
      "source": [
        " tuplex = tuple(\"HELLO WORLD\")\n",
        "print(tuplex)\n",
        "_slice = tuplex[2:9:2]\n",
        "print(_slice) \n",
        "_slice = tuplex[::4]\n",
        "print(_slice)\n",
        "_slice = tuplex[9:2:-4]\n",
        "print(_slice)"
      ],
      "execution_count": 4,
      "outputs": [
        {
          "output_type": "stream",
          "text": [
            "('H', 'E', 'L', 'L', 'O', ' ', 'W', 'O', 'R', 'L', 'D')\n",
            "('L', 'O', 'W', 'R')\n",
            "('H', 'O', 'R')\n",
            "('L', ' ')\n"
          ],
          "name": "stdout"
        }
      ]
    },
    {
      "cell_type": "markdown",
      "metadata": {
        "id": "CkTKUpkT5orW",
        "colab_type": "text"
      },
      "source": [
        " Python program to find the length of a tuple."
      ]
    },
    {
      "cell_type": "code",
      "metadata": {
        "id": "ddmt2Y-55plz",
        "colab_type": "code",
        "colab": {
          "base_uri": "https://localhost:8080/",
          "height": 71
        },
        "outputId": "d11a6d71-4aba-4933-f57a-c5b7b8965b76"
      },
      "source": [
        " tuplex = tuple(\"python programming\")\n",
        "print(tuplex)\n",
        "print(len(tuplex))"
      ],
      "execution_count": 5,
      "outputs": [
        {
          "output_type": "stream",
          "text": [
            "('p', 'y', 't', 'h', 'o', 'n', ' ', 'p', 'r', 'o', 'g', 'r', 'a', 'm', 'm', 'i', 'n', 'g')\n",
            "18\n"
          ],
          "name": "stdout"
        }
      ]
    },
    {
      "cell_type": "markdown",
      "metadata": {
        "id": "XcK3Z9Fo6Kw7",
        "colab_type": "text"
      },
      "source": [
        " Python program to convert a tuple to a dictionary."
      ]
    },
    {
      "cell_type": "code",
      "metadata": {
        "id": "Uqh0bHP36Lx9",
        "colab_type": "code",
        "colab": {
          "base_uri": "https://localhost:8080/",
          "height": 71
        },
        "outputId": "feb21286-95c2-43f4-c06e-06c0130b37b1"
      },
      "source": [
        " tuplex = tuple(\"python programming\")\n",
        "print(tuplex)\n",
        "print(len(tuplex))"
      ],
      "execution_count": 6,
      "outputs": [
        {
          "output_type": "stream",
          "text": [
            "('p', 'y', 't', 'h', 'o', 'n', ' ', 'p', 'r', 'o', 'g', 'r', 'a', 'm', 'm', 'i', 'n', 'g')\n",
            "18\n"
          ],
          "name": "stdout"
        }
      ]
    },
    {
      "cell_type": "markdown",
      "metadata": {
        "id": "AZU5yZ2t6cCn",
        "colab_type": "text"
      },
      "source": [
        " Python program to convert a tuple to a dictionary."
      ]
    },
    {
      "cell_type": "code",
      "metadata": {
        "id": "H26s9Mgi6dcb",
        "colab_type": "code",
        "colab": {
          "base_uri": "https://localhost:8080/",
          "height": 34
        },
        "outputId": "692fa601-c591-4185-87e1-c9d0462960c6"
      },
      "source": [
        " tuplex = ((2, \"w\"),(3, \"r\"))\n",
        "print(dict((y, x) for x, y in tuplex))"
      ],
      "execution_count": 7,
      "outputs": [
        {
          "output_type": "stream",
          "text": [
            "{'w': 2, 'r': 3}\n"
          ],
          "name": "stdout"
        }
      ]
    },
    {
      "cell_type": "markdown",
      "metadata": {
        "id": "EGDKex9C7OaX",
        "colab_type": "text"
      },
      "source": [
        " Python program to reverse a tuple."
      ]
    },
    {
      "cell_type": "code",
      "metadata": {
        "id": "l_ZaKEfg7PDw",
        "colab_type": "code",
        "colab": {
          "base_uri": "https://localhost:8080/",
          "height": 34
        },
        "outputId": "2964668e-227e-43b0-abf9-413331ce72df"
      },
      "source": [
        " \n",
        "x = (\"python\")\n",
        "y = reversed(x)\n",
        "print(tuple(y))"
      ],
      "execution_count": 8,
      "outputs": [
        {
          "output_type": "stream",
          "text": [
            "('n', 'o', 'h', 't', 'y', 'p')\n"
          ],
          "name": "stdout"
        }
      ]
    },
    {
      "cell_type": "markdown",
      "metadata": {
        "id": "s6GT7ed77bTs",
        "colab_type": "text"
      },
      "source": [
        " Python program to convert a list of tuples into a dictionary."
      ]
    },
    {
      "cell_type": "code",
      "metadata": {
        "id": "JDx1ICzj7cB_",
        "colab_type": "code",
        "colab": {
          "base_uri": "https://localhost:8080/",
          "height": 54
        },
        "outputId": "c21aeff9-cc79-40d9-d820-213148328d7b"
      },
      "source": [
        " \n",
        "l = [(\"x\", 1), (\"x\", 2), (\"x\", 3), (\"y\", 1), (\"y\", 2), (\"z\", 1)]\n",
        "d = {}\n",
        "for a, b in l:\n",
        "    d.setdefault(a, []).append(b)\n",
        "print (d)"
      ],
      "execution_count": 9,
      "outputs": [
        {
          "output_type": "stream",
          "text": [
            "{'x': [1, 2, 3], 'y': [1, 2], 'z': [1]}\n"
          ],
          "name": "stdout"
        }
      ]
    },
    {
      "cell_type": "markdown",
      "metadata": {
        "id": "6xxYEvsa7m4s",
        "colab_type": "text"
      },
      "source": [
        " Python program to convert a list of tuple."
      ]
    },
    {
      "cell_type": "code",
      "metadata": {
        "id": "fGI3PmHk7x95",
        "colab_type": "code",
        "colab": {
          "base_uri": "https://localhost:8080/",
          "height": 34
        },
        "outputId": "8f97a1b5-363f-492c-e37f-cdcdb20ed43f"
      },
      "source": [
        " listx = [5, 10, 7, 4, 15, 3]\n",
        "tuplex = tuple(listx)\n",
        "print(tuplex)"
      ],
      "execution_count": 10,
      "outputs": [
        {
          "output_type": "stream",
          "text": [
            "(5, 10, 7, 4, 15, 3)\n"
          ],
          "name": "stdout"
        }
      ]
    }
  ]
}